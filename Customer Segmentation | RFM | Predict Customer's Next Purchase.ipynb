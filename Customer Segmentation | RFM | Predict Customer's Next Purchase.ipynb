{
 "cells": [
  {
   "cell_type": "markdown",
   "metadata": {},
   "source": [
    "# Table of Contents"
   ]
  },
  {
   "cell_type": "markdown",
   "metadata": {},
   "source": [
    "[1. Setup](#1)\n",
    "\n",
    "[2. Exploratory Data Analysis / Data Preparation](#2)\n",
    "\n",
    "[3. RFM Analysis](#3)\n",
    "\n",
    "[4. Clustering based on RFM Analysis](#4)\n",
    "\n",
    "[5. Feature Engineering and Modeling](#5)\n",
    "\n",
    "[6. Model Performance](#6)\n",
    "\n",
    "[7. Results Summary](#7)"
   ]
  },
  {
   "cell_type": "markdown",
   "metadata": {},
   "source": [
    "## 1. Setup\n",
    "<a id=\"1\"></a>"
   ]
  },
  {
   "cell_type": "code",
   "execution_count": 1,
   "metadata": {},
   "outputs": [
    {
     "name": "stderr",
     "output_type": "stream",
     "text": [
      "/Library/Frameworks/Python.framework/Versions/3.6/lib/python3.6/site-packages/sklearn/cross_validation.py:41: DeprecationWarning: This module was deprecated in version 0.18 in favor of the model_selection module into which all the refactored classes and functions are moved. Also note that the interface of the new CV iterators are different from that of this module. This module will be removed in 0.20.\n",
      "  \"This module will be removed in 0.20.\", DeprecationWarning)\n",
      "/Library/Frameworks/Python.framework/Versions/3.6/lib/python3.6/site-packages/sklearn/grid_search.py:42: DeprecationWarning: This module was deprecated in version 0.18 in favor of the model_selection module into which all the refactored classes and functions are moved. This module will be removed in 0.20.\n",
      "  DeprecationWarning)\n"
     ]
    }
   ],
   "source": [
    "from datetime import datetime\n",
    "import pandas as pd\n",
    "import numpy as np\n",
    "from scipy import stats\n",
    "import os\n",
    "\n",
    "import seaborn as sns\n",
    "sns.set(style=\"whitegrid\")\n",
    "from matplotlib import pyplot as plt \n",
    "\n",
    "from sklearn.metrics import precision_recall_curve\n",
    "from sklearn.preprocessing import MinMaxScaler\n",
    "from sklearn.cluster import KMeans\n",
    "from sklearn.metrics import silhouette_samples\n",
    "from sklearn import cross_validation, metrics\n",
    "from sklearn.grid_search import GridSearchCV\n",
    "from sklearn.model_selection import train_test_split\n",
    "from sklearn.ensemble import GradientBoostingClassifier\n",
    "\n",
    "import warnings\n",
    "warnings.filterwarnings('ignore')"
   ]
  },
  {
   "cell_type": "code",
   "execution_count": 2,
   "metadata": {},
   "outputs": [],
   "source": [
    "order = pd.read_csv('data/order.csv')\n",
    "online = pd.read_csv('data/online.csv')"
   ]
  },
  {
   "cell_type": "markdown",
   "metadata": {},
   "source": [
    "## 2. Exploratory Data Analysis / Data Preparation\n",
    "<a id=\"2\"></a>"
   ]
  },
  {
   "cell_type": "markdown",
   "metadata": {},
   "source": [
    "### a. order"
   ]
  },
  {
   "cell_type": "code",
   "execution_count": 3,
   "metadata": {},
   "outputs": [
    {
     "data": {
      "text/html": [
       "<div>\n",
       "<style scoped>\n",
       "    .dataframe tbody tr th:only-of-type {\n",
       "        vertical-align: middle;\n",
       "    }\n",
       "\n",
       "    .dataframe tbody tr th {\n",
       "        vertical-align: top;\n",
       "    }\n",
       "\n",
       "    .dataframe thead th {\n",
       "        text-align: right;\n",
       "    }\n",
       "</style>\n",
       "<table border=\"1\" class=\"dataframe\">\n",
       "  <thead>\n",
       "    <tr style=\"text-align: right;\">\n",
       "      <th></th>\n",
       "      <th>custno</th>\n",
       "      <th>ordno</th>\n",
       "      <th>orderdate</th>\n",
       "      <th>prodcat2</th>\n",
       "      <th>prodcat1</th>\n",
       "      <th>revenue</th>\n",
       "    </tr>\n",
       "  </thead>\n",
       "  <tbody>\n",
       "    <tr>\n",
       "      <th>0</th>\n",
       "      <td>18944</td>\n",
       "      <td>64694</td>\n",
       "      <td>2016-11-27 20:57:20</td>\n",
       "      <td>NaN</td>\n",
       "      <td>1</td>\n",
       "      <td>53.30</td>\n",
       "    </tr>\n",
       "    <tr>\n",
       "      <th>1</th>\n",
       "      <td>18944</td>\n",
       "      <td>114405</td>\n",
       "      <td>2017-04-29 20:18:04</td>\n",
       "      <td>NaN</td>\n",
       "      <td>1</td>\n",
       "      <td>0.10</td>\n",
       "    </tr>\n",
       "    <tr>\n",
       "      <th>2</th>\n",
       "      <td>18944</td>\n",
       "      <td>28906</td>\n",
       "      <td>2017-04-23 21:31:03</td>\n",
       "      <td>NaN</td>\n",
       "      <td>1</td>\n",
       "      <td>141.66</td>\n",
       "    </tr>\n",
       "  </tbody>\n",
       "</table>\n",
       "</div>"
      ],
      "text/plain": [
       "   custno   ordno            orderdate  prodcat2  prodcat1  revenue\n",
       "0   18944   64694  2016-11-27 20:57:20       NaN         1    53.30\n",
       "1   18944  114405  2017-04-29 20:18:04       NaN         1     0.10\n",
       "2   18944   28906  2017-04-23 21:31:03       NaN         1   141.66"
      ]
     },
     "execution_count": 3,
     "metadata": {},
     "output_type": "execute_result"
    }
   ],
   "source": [
    "order.head(3)"
   ]
  },
  {
   "cell_type": "code",
   "execution_count": 4,
   "metadata": {},
   "outputs": [
    {
     "name": "stdout",
     "output_type": "stream",
     "text": [
      "<class 'pandas.core.frame.DataFrame'>\n",
      "RangeIndex: 263278 entries, 0 to 263277\n",
      "Data columns (total 6 columns):\n",
      "custno       263278 non-null int64\n",
      "ordno        263278 non-null int64\n",
      "orderdate    263278 non-null object\n",
      "prodcat2     261455 non-null float64\n",
      "prodcat1     263278 non-null int64\n",
      "revenue      263278 non-null float64\n",
      "dtypes: float64(2), int64(3), object(1)\n",
      "memory usage: 12.1+ MB\n"
     ]
    }
   ],
   "source": [
    "order.info()"
   ]
  },
  {
   "cell_type": "code",
   "execution_count": 5,
   "metadata": {},
   "outputs": [
    {
     "name": "stdout",
     "output_type": "stream",
     "text": [
      "Exploring order data\n",
      "No. of unique prodcat1   ::  6\n",
      "Any duplicated orders    ::  False\n",
      "Any duplicated custno    ::  True\n",
      "Any duplicated ordno     ::  True\n"
     ]
    }
   ],
   "source": [
    "print('Exploring order data')\n",
    "print('No. of unique prodcat1   :: ', order.prodcat1.nunique())\n",
    "print('Any duplicated orders    :: ', order.duplicated().any())\n",
    "print('Any duplicated custno    :: ', order.custno.duplicated().any())\n",
    "print('Any duplicated ordno     :: ', order.ordno.duplicated().any())"
   ]
  },
  {
   "cell_type": "code",
   "execution_count": 6,
   "metadata": {},
   "outputs": [
    {
     "data": {
      "text/html": [
       "<div>\n",
       "<style scoped>\n",
       "    .dataframe tbody tr th:only-of-type {\n",
       "        vertical-align: middle;\n",
       "    }\n",
       "\n",
       "    .dataframe tbody tr th {\n",
       "        vertical-align: top;\n",
       "    }\n",
       "\n",
       "    .dataframe thead th {\n",
       "        text-align: right;\n",
       "    }\n",
       "</style>\n",
       "<table border=\"1\" class=\"dataframe\">\n",
       "  <thead>\n",
       "    <tr style=\"text-align: right;\">\n",
       "      <th></th>\n",
       "      <th>custno</th>\n",
       "      <th>ordno</th>\n",
       "      <th>orderdate</th>\n",
       "      <th>prodcat2</th>\n",
       "      <th>prodcat1</th>\n",
       "      <th>revenue</th>\n",
       "    </tr>\n",
       "  </thead>\n",
       "  <tbody>\n",
       "    <tr>\n",
       "      <th>254171</th>\n",
       "      <td>8</td>\n",
       "      <td>8</td>\n",
       "      <td>2016-06-23 20:28:19</td>\n",
       "      <td>147.0</td>\n",
       "      <td>7</td>\n",
       "      <td>99.12</td>\n",
       "    </tr>\n",
       "    <tr>\n",
       "      <th>260540</th>\n",
       "      <td>25</td>\n",
       "      <td>25</td>\n",
       "      <td>2016-01-21 16:10:18</td>\n",
       "      <td>195.0</td>\n",
       "      <td>2</td>\n",
       "      <td>87.54</td>\n",
       "    </tr>\n",
       "    <tr>\n",
       "      <th>260567</th>\n",
       "      <td>45</td>\n",
       "      <td>45</td>\n",
       "      <td>2018-09-26 11:54:08</td>\n",
       "      <td>195.0</td>\n",
       "      <td>2</td>\n",
       "      <td>5.36</td>\n",
       "    </tr>\n",
       "  </tbody>\n",
       "</table>\n",
       "</div>"
      ],
      "text/plain": [
       "        custno  ordno            orderdate  prodcat2  prodcat1  revenue\n",
       "254171       8      8  2016-06-23 20:28:19     147.0         7    99.12\n",
       "260540      25     25  2016-01-21 16:10:18     195.0         2    87.54\n",
       "260567      45     45  2018-09-26 11:54:08     195.0         2     5.36"
      ]
     },
     "execution_count": 6,
     "metadata": {},
     "output_type": "execute_result"
    }
   ],
   "source": [
    "order[order.custno==order.ordno].tail(3) # Some early orders have same custno and ordno"
   ]
  },
  {
   "cell_type": "code",
   "execution_count": 7,
   "metadata": {},
   "outputs": [
    {
     "name": "stdout",
     "output_type": "stream",
     "text": [
      "No of records with custno==ordno     ::  134\n"
     ]
    }
   ],
   "source": [
    "print('No of records with custno==ordno     :: ', len(order[order.custno==order.ordno]))"
   ]
  },
  {
   "cell_type": "code",
   "execution_count": 8,
   "metadata": {},
   "outputs": [
    {
     "data": {
      "image/png": "[encoded data removed]",
      "text/plain": [
       "<Figure size 432x288 with 1 Axes>"
      ]
     },
     "metadata": {},
     "output_type": "display_data"
    }
   ],
   "source": [
    "res = order.groupby(order.prodcat1).revenue.sum().reset_index()\n",
    "sns.barplot(x=\"prodcat1\", y=\"revenue\", data=res);\n",
    "plt.title('Top 10 rooms with most distinct users');"
   ]
  },
  {
   "cell_type": "markdown",
   "metadata": {},
   "source": [
    "### b. online"
   ]
  },
  {
   "cell_type": "code",
   "execution_count": 9,
   "metadata": {},
   "outputs": [
    {
     "data": {
      "text/html": [
       "<div>\n",
       "<style scoped>\n",
       "    .dataframe tbody tr th:only-of-type {\n",
       "        vertical-align: middle;\n",
       "    }\n",
       "\n",
       "    .dataframe tbody tr th {\n",
       "        vertical-align: top;\n",
       "    }\n",
       "\n",
       "    .dataframe thead th {\n",
       "        text-align: right;\n",
       "    }\n",
       "</style>\n",
       "<table border=\"1\" class=\"dataframe\">\n",
       "  <thead>\n",
       "    <tr style=\"text-align: right;\">\n",
       "      <th></th>\n",
       "      <th>session</th>\n",
       "      <th>visitor</th>\n",
       "      <th>dt</th>\n",
       "      <th>custno</th>\n",
       "      <th>category</th>\n",
       "      <th>event1</th>\n",
       "      <th>event2</th>\n",
       "    </tr>\n",
       "  </thead>\n",
       "  <tbody>\n",
       "    <tr>\n",
       "      <th>0</th>\n",
       "      <td>419542</td>\n",
       "      <td>140970</td>\n",
       "      <td>2016-09-16 05:03:23</td>\n",
       "      <td>3840</td>\n",
       "      <td>1</td>\n",
       "      <td>NaN</td>\n",
       "      <td>1</td>\n",
       "    </tr>\n",
       "    <tr>\n",
       "      <th>1</th>\n",
       "      <td>3030130</td>\n",
       "      <td>14501</td>\n",
       "      <td>2017-11-13 04:58:12</td>\n",
       "      <td>70400</td>\n",
       "      <td>1</td>\n",
       "      <td>NaN</td>\n",
       "      <td>1</td>\n",
       "    </tr>\n",
       "    <tr>\n",
       "      <th>2</th>\n",
       "      <td>2638740</td>\n",
       "      <td>419353</td>\n",
       "      <td>2017-05-24 16:10:38</td>\n",
       "      <td>21248</td>\n",
       "      <td>1</td>\n",
       "      <td>NaN</td>\n",
       "      <td>1</td>\n",
       "    </tr>\n",
       "  </tbody>\n",
       "</table>\n",
       "</div>"
      ],
      "text/plain": [
       "   session  visitor                   dt  custno  category  event1  event2\n",
       "0   419542   140970  2016-09-16 05:03:23    3840         1     NaN       1\n",
       "1  3030130    14501  2017-11-13 04:58:12   70400         1     NaN       1\n",
       "2  2638740   419353  2017-05-24 16:10:38   21248         1     NaN       1"
      ]
     },
     "execution_count": 9,
     "metadata": {},
     "output_type": "execute_result"
    }
   ],
   "source": [
    "online.head(3)"
   ]
  },
  {
   "cell_type": "code",
   "execution_count": 10,
   "metadata": {},
   "outputs": [
    {
     "name": "stdout",
     "output_type": "stream",
     "text": [
      "<class 'pandas.core.frame.DataFrame'>\n",
      "RangeIndex: 954774 entries, 0 to 954773\n",
      "Data columns (total 7 columns):\n",
      "session     954774 non-null int64\n",
      "visitor     954774 non-null int64\n",
      "dt          954774 non-null object\n",
      "custno      954774 non-null int64\n",
      "category    954774 non-null int64\n",
      "event1      164928 non-null float64\n",
      "event2      954774 non-null int64\n",
      "dtypes: float64(1), int64(5), object(1)\n",
      "memory usage: 51.0+ MB\n"
     ]
    }
   ],
   "source": [
    "online.info()"
   ]
  },
  {
   "cell_type": "code",
   "execution_count": 11,
   "metadata": {},
   "outputs": [
    {
     "name": "stdout",
     "output_type": "stream",
     "text": [
      "Exploring online data\n",
      "Any duplicated rows        ::  False\n",
      "Any duplicated custno      ::  True\n",
      "Any duplicated session     ::  True\n",
      "Any duplicated visitor     ::  True\n",
      "Unique event1              ::  [nan  1.  2.  4.  5.  6.  7.  8.  9. 10. 11.]\n",
      "Unique event2              ::  [ 1  2  3  4  5  6  7  8  9 10]\n",
      "Unique category            ::  [1 2 3]\n"
     ]
    }
   ],
   "source": [
    "print('Exploring online data')\n",
    "print('Any duplicated rows        :: ', online.duplicated().any())\n",
    "print('Any duplicated custno      :: ', online.custno.duplicated().any())\n",
    "print('Any duplicated session     :: ', online.session.duplicated().any())\n",
    "print('Any duplicated visitor     :: ', online.visitor.duplicated().any())\n",
    "print('Unique event1              :: ', online.event1.unique())\n",
    "print('Unique event2              :: ', online.event2.unique())\n",
    "print('Unique category            :: ', online.category.unique())"
   ]
  },
  {
   "cell_type": "code",
   "execution_count": 12,
   "metadata": {},
   "outputs": [],
   "source": [
    "order = order[order.prodcat1.isin([1.0,2.0,3.0])]  # Need both datasets to be consistent in categories (this is the target variable!)"
   ]
  },
  {
   "cell_type": "markdown",
   "metadata": {},
   "source": [
    "### c. Merge datasets"
   ]
  },
  {
   "cell_type": "code",
   "execution_count": 13,
   "metadata": {},
   "outputs": [],
   "source": [
    "data = pd.merge(online, order, on='custno', how='outer').sort_values(by=['dt', 'orderdate'])\n",
    "data.reset_index(inplace=True, drop=True)\n",
    "data['orderdate'] = pd.to_datetime(data['orderdate'])\n",
    "data['dt'] = pd.to_datetime(data['dt'])"
   ]
  },
  {
   "cell_type": "code",
   "execution_count": 14,
   "metadata": {},
   "outputs": [
    {
     "name": "stdout",
     "output_type": "stream",
     "text": [
      "<class 'pandas.core.frame.DataFrame'>\n",
      "RangeIndex: 4825233 entries, 0 to 4825232\n",
      "Data columns (total 12 columns):\n",
      "session      float64\n",
      "visitor      float64\n",
      "dt           datetime64[ns]\n",
      "custno       int64\n",
      "category     float64\n",
      "event1       float64\n",
      "event2       float64\n",
      "ordno        float64\n",
      "orderdate    datetime64[ns]\n",
      "prodcat2     float64\n",
      "prodcat1     float64\n",
      "revenue      float64\n",
      "dtypes: datetime64[ns](2), float64(9), int64(1)\n",
      "memory usage: 441.8 MB\n"
     ]
    }
   ],
   "source": [
    "data.info()"
   ]
  },
  {
   "cell_type": "code",
   "execution_count": 15,
   "metadata": {},
   "outputs": [
    {
     "data": {
      "text/html": [
       "<div>\n",
       "<style scoped>\n",
       "    .dataframe tbody tr th:only-of-type {\n",
       "        vertical-align: middle;\n",
       "    }\n",
       "\n",
       "    .dataframe tbody tr th {\n",
       "        vertical-align: top;\n",
       "    }\n",
       "\n",
       "    .dataframe thead th {\n",
       "        text-align: right;\n",
       "    }\n",
       "</style>\n",
       "<table border=\"1\" class=\"dataframe\">\n",
       "  <thead>\n",
       "    <tr style=\"text-align: right;\">\n",
       "      <th></th>\n",
       "      <th>session</th>\n",
       "      <th>visitor</th>\n",
       "      <th>dt</th>\n",
       "      <th>custno</th>\n",
       "      <th>category</th>\n",
       "      <th>event1</th>\n",
       "      <th>event2</th>\n",
       "      <th>ordno</th>\n",
       "      <th>orderdate</th>\n",
       "      <th>prodcat2</th>\n",
       "      <th>prodcat1</th>\n",
       "      <th>revenue</th>\n",
       "    </tr>\n",
       "  </thead>\n",
       "  <tbody>\n",
       "    <tr>\n",
       "      <th>0</th>\n",
       "      <td>1599047.0</td>\n",
       "      <td>258187.0</td>\n",
       "      <td>2016-01-01 00:00:08</td>\n",
       "      <td>36112</td>\n",
       "      <td>3.0</td>\n",
       "      <td>NaN</td>\n",
       "      <td>7.0</td>\n",
       "      <td>NaN</td>\n",
       "      <td>NaT</td>\n",
       "      <td>NaN</td>\n",
       "      <td>NaN</td>\n",
       "      <td>NaN</td>\n",
       "    </tr>\n",
       "    <tr>\n",
       "      <th>1</th>\n",
       "      <td>284812.0</td>\n",
       "      <td>419022.0</td>\n",
       "      <td>2016-01-01 00:01:47</td>\n",
       "      <td>68246</td>\n",
       "      <td>1.0</td>\n",
       "      <td>NaN</td>\n",
       "      <td>7.0</td>\n",
       "      <td>144652.0</td>\n",
       "      <td>2017-06-21 13:16:46</td>\n",
       "      <td>9.0</td>\n",
       "      <td>3.0</td>\n",
       "      <td>16.22</td>\n",
       "    </tr>\n",
       "    <tr>\n",
       "      <th>2</th>\n",
       "      <td>1004067.0</td>\n",
       "      <td>125012.0</td>\n",
       "      <td>2016-01-01 00:20:48</td>\n",
       "      <td>66408</td>\n",
       "      <td>3.0</td>\n",
       "      <td>NaN</td>\n",
       "      <td>7.0</td>\n",
       "      <td>NaN</td>\n",
       "      <td>NaT</td>\n",
       "      <td>NaN</td>\n",
       "      <td>NaN</td>\n",
       "      <td>NaN</td>\n",
       "    </tr>\n",
       "  </tbody>\n",
       "</table>\n",
       "</div>"
      ],
      "text/plain": [
       "     session   visitor                  dt  custno  category  event1  event2  \\\n",
       "0  1599047.0  258187.0 2016-01-01 00:00:08   36112       3.0     NaN     7.0   \n",
       "1   284812.0  419022.0 2016-01-01 00:01:47   68246       1.0     NaN     7.0   \n",
       "2  1004067.0  125012.0 2016-01-01 00:20:48   66408       3.0     NaN     7.0   \n",
       "\n",
       "      ordno           orderdate  prodcat2  prodcat1  revenue  \n",
       "0       NaN                 NaT       NaN       NaN      NaN  \n",
       "1  144652.0 2017-06-21 13:16:46       9.0       3.0    16.22  \n",
       "2       NaN                 NaT       NaN       NaN      NaN  "
      ]
     },
     "execution_count": 15,
     "metadata": {},
     "output_type": "execute_result"
    }
   ],
   "source": [
    "data.head(3)"
   ]
  },
  {
   "cell_type": "code",
   "execution_count": 16,
   "metadata": {},
   "outputs": [
    {
     "name": "stdout",
     "output_type": "stream",
     "text": [
      "No. of visitors with no purchases           ::  277443\n",
      "No. of purchases with no browsing history   ::  23176\n",
      "Min and max timestamps in order             ::  2016-01-01 06:34:56 2019-01-02 23:54:58\n",
      "Min and max timestamps in online            ::  2016-01-01 00:00:08 2017-12-31 23:58:05\n"
     ]
    }
   ],
   "source": [
    "print('No. of visitors with no purchases           :: ', len(data[data.ordno.isnull()]))\n",
    "print('No. of purchases with no browsing history   :: ', len(data[data.session.isnull()]))\n",
    "print('Min and max timestamps in order             :: ', data.orderdate.min(), data.orderdate.max())\n",
    "print('Min and max timestamps in online            :: ', data.dt.min(), data.dt.max() )"
   ]
  },
  {
   "cell_type": "code",
   "execution_count": 17,
   "metadata": {},
   "outputs": [],
   "source": [
    "data = data[data.orderdate<='2017-12-31']"
   ]
  },
  {
   "cell_type": "code",
   "execution_count": 18,
   "metadata": {},
   "outputs": [
    {
     "name": "stdout",
     "output_type": "stream",
     "text": [
      "Unique customers                     ::  37647\n",
      "Unique customers for unique orders   ::  37647\n",
      "Unique orders                        ::  74591\n"
     ]
    }
   ],
   "source": [
    "print('Unique customers                     :: ', data.custno.nunique())\n",
    "print('Unique customers for unique orders   :: ', data[data.ordno.notnull()].custno.nunique())\n",
    "print('Unique orders                        :: ', data.ordno.nunique())"
   ]
  },
  {
   "cell_type": "markdown",
   "metadata": {},
   "source": [
    "## 3. RFM Analysis\n",
    "<a id=\"3\"></a>"
   ]
  },
  {
   "cell_type": "code",
   "execution_count": 19,
   "metadata": {},
   "outputs": [],
   "source": [
    "def buildRFMData(data, currentDate=datetime(2018,1,1)):\n",
    "    rfm= data.groupby('custno').agg({'orderdate': lambda date: (currentDate - date.max()).days,\n",
    "                                 'ordno': lambda n: len(n),\n",
    "                                 'revenue': lambda revenue: revenue.sum(),\n",
    "                                 'prodcat1': lambda x: x.iloc[-1:],\n",
    "                                })\n",
    "    rfm.columns=['recency', 'frequency', 'monetary', 'lastCatPurchased']\n",
    "    rfm.reset_index(inplace=True)\n",
    "    rfm.recency = rfm.recency.astype(int)\n",
    "    rfm.frequency = rfm.frequency.astype(int)\n",
    "    rfm.monetary = rfm.monetary.astype(int)\n",
    "    rfm['r_quartile'] = pd.qcut(rfm['recency'], 4, ['1','2','3','4'])\n",
    "    rfm['f_quartile'] = pd.qcut(rfm['frequency'], 4, ['4','3','2','1'])\n",
    "    rfm['m_quartile'] = pd.qcut(rfm['monetary'], 4, ['4','3','2','1'])\n",
    "    rfm['RFM_Score'] = rfm.r_quartile.astype(str)+ rfm.f_quartile.astype(str) + rfm.m_quartile.astype(str)\n",
    "    return rfm\n",
    "\n",
    "rfm = buildRFMData(data)"
   ]
  },
  {
   "cell_type": "code",
   "execution_count": 20,
   "metadata": {},
   "outputs": [
    {
     "data": {
      "text/html": [
       "<div>\n",
       "<style scoped>\n",
       "    .dataframe tbody tr th:only-of-type {\n",
       "        vertical-align: middle;\n",
       "    }\n",
       "\n",
       "    .dataframe tbody tr th {\n",
       "        vertical-align: top;\n",
       "    }\n",
       "\n",
       "    .dataframe thead th {\n",
       "        text-align: right;\n",
       "    }\n",
       "</style>\n",
       "<table border=\"1\" class=\"dataframe\">\n",
       "  <thead>\n",
       "    <tr style=\"text-align: right;\">\n",
       "      <th></th>\n",
       "      <th>custno</th>\n",
       "      <th>recency</th>\n",
       "      <th>frequency</th>\n",
       "      <th>monetary</th>\n",
       "      <th>lastCatPurchased</th>\n",
       "      <th>r_quartile</th>\n",
       "      <th>f_quartile</th>\n",
       "      <th>m_quartile</th>\n",
       "      <th>RFM_Score</th>\n",
       "    </tr>\n",
       "  </thead>\n",
       "  <tbody>\n",
       "    <tr>\n",
       "      <th>0</th>\n",
       "      <td>1</td>\n",
       "      <td>202</td>\n",
       "      <td>1</td>\n",
       "      <td>8</td>\n",
       "      <td>1.0</td>\n",
       "      <td>2</td>\n",
       "      <td>4</td>\n",
       "      <td>4</td>\n",
       "      <td>244</td>\n",
       "    </tr>\n",
       "    <tr>\n",
       "      <th>1</th>\n",
       "      <td>2</td>\n",
       "      <td>243</td>\n",
       "      <td>5</td>\n",
       "      <td>313</td>\n",
       "      <td>1.0</td>\n",
       "      <td>2</td>\n",
       "      <td>3</td>\n",
       "      <td>3</td>\n",
       "      <td>233</td>\n",
       "    </tr>\n",
       "    <tr>\n",
       "      <th>2</th>\n",
       "      <td>3</td>\n",
       "      <td>276</td>\n",
       "      <td>6</td>\n",
       "      <td>565</td>\n",
       "      <td>1.0</td>\n",
       "      <td>2</td>\n",
       "      <td>3</td>\n",
       "      <td>3</td>\n",
       "      <td>233</td>\n",
       "    </tr>\n",
       "  </tbody>\n",
       "</table>\n",
       "</div>"
      ],
      "text/plain": [
       "   custno  recency  frequency  monetary  lastCatPurchased r_quartile  \\\n",
       "0       1      202          1         8               1.0          2   \n",
       "1       2      243          5       313               1.0          2   \n",
       "2       3      276          6       565               1.0          2   \n",
       "\n",
       "  f_quartile m_quartile RFM_Score  \n",
       "0          4          4       244  \n",
       "1          3          3       233  \n",
       "2          3          3       233  "
      ]
     },
     "execution_count": 20,
     "metadata": {},
     "output_type": "execute_result"
    }
   ],
   "source": [
    "rfm.head(3)"
   ]
  },
  {
   "cell_type": "code",
   "execution_count": 21,
   "metadata": {},
   "outputs": [
    {
     "name": "stdout",
     "output_type": "stream",
     "text": [
      "<class 'pandas.core.frame.DataFrame'>\n",
      "RangeIndex: 37647 entries, 0 to 37646\n",
      "Data columns (total 9 columns):\n",
      "custno              37647 non-null int64\n",
      "recency             37647 non-null int64\n",
      "frequency           37647 non-null int64\n",
      "monetary            37647 non-null int64\n",
      "lastCatPurchased    37647 non-null float64\n",
      "r_quartile          37647 non-null category\n",
      "f_quartile          37647 non-null category\n",
      "m_quartile          37647 non-null category\n",
      "RFM_Score           37647 non-null object\n",
      "dtypes: category(3), float64(1), int64(4), object(1)\n",
      "memory usage: 1.8+ MB\n"
     ]
    }
   ],
   "source": [
    "rfm.info()"
   ]
  },
  {
   "cell_type": "code",
   "execution_count": 22,
   "metadata": {},
   "outputs": [
    {
     "data": {
      "text/plain": [
       "<seaborn.axisgrid.FacetGrid at 0x10a5993c8>"
      ]
     },
     "execution_count": 22,
     "metadata": {},
     "output_type": "execute_result"
    },
    {
     "data": {
      "image/png": "[encoded data removed]",
      "text/plain": [
       "<Figure size 360x360 with 1 Axes>"
      ]
     },
     "metadata": {},
     "output_type": "display_data"
    }
   ],
   "source": [
    "sns.set_palette('muted')\n",
    "sns.lmplot(x=\"recency\", y=\"monetary\", data=rfm)"
   ]
  },
  {
   "cell_type": "code",
   "execution_count": 23,
   "metadata": {},
   "outputs": [
    {
     "data": {
      "text/plain": [
       "<seaborn.axisgrid.FacetGrid at 0x10a599080>"
      ]
     },
     "execution_count": 23,
     "metadata": {},
     "output_type": "execute_result"
    },
    {
     "data": {
      "image/png": "[encoded data removed]",
      "text/plain": [
       "<Figure size 360x360 with 1 Axes>"
      ]
     },
     "metadata": {},
     "output_type": "display_data"
    }
   ],
   "source": [
    "sns.lmplot(x=\"frequency\", y=\"monetary\", data=rfm)"
   ]
  },
  {
   "cell_type": "code",
   "execution_count": 24,
   "metadata": {},
   "outputs": [
    {
     "data": {
      "image/png": "[encoded data removed]",
      "text/plain": [
       "<Figure size 1440x288 with 3 Axes>"
      ]
     },
     "metadata": {},
     "output_type": "display_data"
    }
   ],
   "source": [
    "sns.set(style=\"whitegrid\", font_scale=1.2);\n",
    "sns.set_palette('muted')\n",
    "plt.subplots(figsize = (20,4));\n",
    "plt.subplot(1,3,1);\n",
    "plt.title('recency distribution')\n",
    "rfm.recency.hist();\n",
    "plt.subplot(1, 3, 2);\n",
    "plt.title('frequency distribution')\n",
    "rfm.frequency.hist();\n",
    "plt.subplot(1, 3, 3);\n",
    "plt.title('monetary distribution')\n",
    "rfm.monetary.hist();"
   ]
  },
  {
   "cell_type": "code",
   "execution_count": 25,
   "metadata": {},
   "outputs": [
    {
     "data": {
      "text/plain": [
       "51"
      ]
     },
     "execution_count": 25,
     "metadata": {},
     "output_type": "execute_result"
    }
   ],
   "source": [
    "len(rfm[rfm.monetary<1])"
   ]
  },
  {
   "cell_type": "code",
   "execution_count": 26,
   "metadata": {},
   "outputs": [],
   "source": [
    "rfm['monetary'] = rfm['monetary'].apply(lambda x: x if x>0 else 1)"
   ]
  },
  {
   "cell_type": "code",
   "execution_count": 27,
   "metadata": {},
   "outputs": [
    {
     "data": {
      "text/html": [
       "<div>\n",
       "<style scoped>\n",
       "    .dataframe tbody tr th:only-of-type {\n",
       "        vertical-align: middle;\n",
       "    }\n",
       "\n",
       "    .dataframe tbody tr th {\n",
       "        vertical-align: top;\n",
       "    }\n",
       "\n",
       "    .dataframe thead th {\n",
       "        text-align: right;\n",
       "    }\n",
       "</style>\n",
       "<table border=\"1\" class=\"dataframe\">\n",
       "  <thead>\n",
       "    <tr style=\"text-align: right;\">\n",
       "      <th></th>\n",
       "      <th>custno</th>\n",
       "      <th>recency</th>\n",
       "      <th>frequency</th>\n",
       "      <th>monetary</th>\n",
       "      <th>lastCatPurchased</th>\n",
       "      <th>r_quartile</th>\n",
       "      <th>f_quartile</th>\n",
       "      <th>m_quartile</th>\n",
       "      <th>RFM_Score</th>\n",
       "    </tr>\n",
       "  </thead>\n",
       "  <tbody>\n",
       "    <tr>\n",
       "      <th>0</th>\n",
       "      <td>1</td>\n",
       "      <td>202</td>\n",
       "      <td>1</td>\n",
       "      <td>8</td>\n",
       "      <td>1.0</td>\n",
       "      <td>2</td>\n",
       "      <td>4</td>\n",
       "      <td>4</td>\n",
       "      <td>244</td>\n",
       "    </tr>\n",
       "    <tr>\n",
       "      <th>1</th>\n",
       "      <td>2</td>\n",
       "      <td>243</td>\n",
       "      <td>5</td>\n",
       "      <td>313</td>\n",
       "      <td>1.0</td>\n",
       "      <td>2</td>\n",
       "      <td>3</td>\n",
       "      <td>3</td>\n",
       "      <td>233</td>\n",
       "    </tr>\n",
       "    <tr>\n",
       "      <th>2</th>\n",
       "      <td>3</td>\n",
       "      <td>276</td>\n",
       "      <td>6</td>\n",
       "      <td>565</td>\n",
       "      <td>1.0</td>\n",
       "      <td>2</td>\n",
       "      <td>3</td>\n",
       "      <td>3</td>\n",
       "      <td>233</td>\n",
       "    </tr>\n",
       "    <tr>\n",
       "      <th>3</th>\n",
       "      <td>4</td>\n",
       "      <td>115</td>\n",
       "      <td>7</td>\n",
       "      <td>347</td>\n",
       "      <td>1.0</td>\n",
       "      <td>1</td>\n",
       "      <td>3</td>\n",
       "      <td>3</td>\n",
       "      <td>133</td>\n",
       "    </tr>\n",
       "    <tr>\n",
       "      <th>4</th>\n",
       "      <td>5</td>\n",
       "      <td>715</td>\n",
       "      <td>1</td>\n",
       "      <td>90</td>\n",
       "      <td>1.0</td>\n",
       "      <td>4</td>\n",
       "      <td>4</td>\n",
       "      <td>4</td>\n",
       "      <td>444</td>\n",
       "    </tr>\n",
       "  </tbody>\n",
       "</table>\n",
       "</div>"
      ],
      "text/plain": [
       "   custno  recency  frequency  monetary  lastCatPurchased r_quartile  \\\n",
       "0       1      202          1         8               1.0          2   \n",
       "1       2      243          5       313               1.0          2   \n",
       "2       3      276          6       565               1.0          2   \n",
       "3       4      115          7       347               1.0          1   \n",
       "4       5      715          1        90               1.0          4   \n",
       "\n",
       "  f_quartile m_quartile RFM_Score  \n",
       "0          4          4       244  \n",
       "1          3          3       233  \n",
       "2          3          3       233  \n",
       "3          3          3       133  \n",
       "4          4          4       444  "
      ]
     },
     "execution_count": 27,
     "metadata": {},
     "output_type": "execute_result"
    }
   ],
   "source": [
    "rfm.head()"
   ]
  },
  {
   "cell_type": "code",
   "execution_count": 28,
   "metadata": {},
   "outputs": [],
   "source": [
    "rfm['r_log'] = np.log10(rfm['recency'])\n",
    "rfm['f_log'] = np.log10(rfm['frequency'])\n",
    "rfm['m_log'] = np.log10(rfm['monetary'])"
   ]
  },
  {
   "cell_type": "code",
   "execution_count": 29,
   "metadata": {},
   "outputs": [
    {
     "data": {
      "text/plain": [
       "<matplotlib.axes._subplots.AxesSubplot at 0x10e0d7dd8>"
      ]
     },
     "execution_count": 29,
     "metadata": {},
     "output_type": "execute_result"
    },
    {
     "data": {
      "image/png": "[encoded data removed]",
      "text/plain": [
       "<Figure size 1440x288 with 3 Axes>"
      ]
     },
     "metadata": {},
     "output_type": "display_data"
    }
   ],
   "source": [
    "sns.set(style=\"whitegrid\", font_scale=1.2);\n",
    "sns.set_palette('muted')\n",
    "plt.subplots(figsize = (20,4));\n",
    "plt.subplot(1,3,1);\n",
    "plt.title('Log transformed - recency distribution')\n",
    "rfm.r_log.hist(bins=20)\n",
    "plt.subplot(1, 3, 2);\n",
    "plt.title('Log transformed - frequency distribution')\n",
    "rfm.f_log.hist(bins=20)\n",
    "plt.subplot(1, 3, 3);\n",
    "plt.title('Log transformed - monetary distribution')\n",
    "rfm.m_log.hist()"
   ]
  },
  {
   "cell_type": "code",
   "execution_count": 30,
   "metadata": {},
   "outputs": [
    {
     "data": {
      "text/plain": [
       "array([[0.00000000e+00, 2.75720165e-01, 0.00000000e+00, ...,\n",
       "        8.05131479e-01, 0.00000000e+00, 1.37460901e-01],\n",
       "       [1.40007000e-05, 3.31961591e-01, 7.65946039e-05, ...,\n",
       "        8.33160070e-01, 1.48153719e-01, 3.79851152e-01],\n",
       "       [2.80014001e-05, 3.77229081e-01, 9.57432549e-05, ...,\n",
       "        8.52474276e-01, 1.64936980e-01, 4.18894090e-01],\n",
       "       ...,\n",
       "       [9.99915996e-01, 6.51577503e-01, 5.74459529e-05, ...,\n",
       "        9.35139725e-01, 1.27612667e-01, 4.07424199e-01],\n",
       "       [9.99971999e-01, 3.04526749e-01, 1.34040557e-04, ...,\n",
       "        8.20132754e-01, 1.91419001e-01, 3.95566432e-01],\n",
       "       [1.00000000e+00, 8.60082305e-01, 2.68081114e-04, ...,\n",
       "        9.77172251e-01, 2.49284365e-01, 4.11733975e-01]])"
      ]
     },
     "execution_count": 30,
     "metadata": {},
     "output_type": "execute_result"
    }
   ],
   "source": [
    "scaler = MinMaxScaler()\n",
    "scaler.fit(rfm)\n",
    "scaler.transform(rfm)"
   ]
  },
  {
   "cell_type": "markdown",
   "metadata": {},
   "source": [
    "## 4. Clustering based on RFM Analysis"
   ]
  },
  {
   "cell_type": "code",
   "execution_count": 31,
   "metadata": {},
   "outputs": [
    {
     "data": {
      "image/png": "[encoded data removed]",
      "text/plain": [
       "<Figure size 432x288 with 1 Axes>"
      ]
     },
     "metadata": {},
     "output_type": "display_data"
    }
   ],
   "source": [
    "distortions = []\n",
    "for i in range(1, 10):\n",
    "    km = KMeans(n_clusters=i,\n",
    "            init='k-means++',\n",
    "            n_init=10,\n",
    "            max_iter=300,\n",
    "            random_state=0)\n",
    "    km.fit(rfm)\n",
    "    distortions.append(km.inertia_)\n",
    "    \n",
    "plt.plot(range(1,10), distortions, marker='o')\n",
    "plt.xlabel('No. of clusters')\n",
    "plt.ylabel('Distortion')\n",
    "plt.title(\"Elbow Method Cluster Analysis\")\n",
    "plt.show()"
   ]
  },
  {
   "cell_type": "code",
   "execution_count": 32,
   "metadata": {},
   "outputs": [],
   "source": [
    "km = KMeans(n_clusters=3,\n",
    "            init='k-means++',\n",
    "            n_init=10,\n",
    "            max_iter=300,\n",
    "            random_state=0)\n",
    "kmeans = km.fit(scaler.transform(rfm))\n",
    "y_km = km.fit_predict(scaler.transform(rfm))\n",
    "rfm['cluster'] = kmeans.labels_"
   ]
  },
  {
   "cell_type": "code",
   "execution_count": 33,
   "metadata": {},
   "outputs": [
    {
     "data": {
      "image/png": "[encoded data removed]",
      "text/plain": [
       "<Figure size 414.895x360 with 1 Axes>"
      ]
     },
     "metadata": {},
     "output_type": "display_data"
    }
   ],
   "source": [
    "sns.lmplot(x=\"recency\", y=\"monetary\", hue=\"cluster\", data=rfm, fit_reg=False);"
   ]
  },
  {
   "cell_type": "code",
   "execution_count": 34,
   "metadata": {},
   "outputs": [
    {
     "data": {
      "image/png": "[encoded data removed]",
      "text/plain": [
       "<Figure size 414.895x360 with 1 Axes>"
      ]
     },
     "metadata": {},
     "output_type": "display_data"
    }
   ],
   "source": [
    "sns.lmplot(x=\"frequency\", y=\"monetary\", hue=\"cluster\", data=rfm, fit_reg=False);"
   ]
  },
  {
   "cell_type": "code",
   "execution_count": 35,
   "metadata": {},
   "outputs": [
    {
     "data": {
      "image/png": "[encoded data removed]",
      "text/plain": [
       "<Figure size 414.895x360 with 1 Axes>"
      ]
     },
     "metadata": {},
     "output_type": "display_data"
    }
   ],
   "source": [
    "sns.lmplot(x=\"frequency\", y=\"recency\", hue=\"cluster\", data=rfm, fit_reg=False);"
   ]
  },
  {
   "cell_type": "code",
   "execution_count": 36,
   "metadata": {},
   "outputs": [
    {
     "data": {
      "image/png": "[encoded data removed]",
      "text/plain": [
       "<Figure size 432x288 with 1 Axes>"
      ]
     },
     "metadata": {},
     "output_type": "display_data"
    }
   ],
   "source": [
    "sns.countplot(x='cluster', data=rfm);"
   ]
  },
  {
   "cell_type": "markdown",
   "metadata": {},
   "source": [
    "# Feature Engineering and Modeling\n",
    "<a id=\"5\"></a>"
   ]
  },
  {
   "cell_type": "code",
   "execution_count": 37,
   "metadata": {},
   "outputs": [],
   "source": [
    "def getData(data, rfm):\n",
    "    sessions = data.groupby('custno').agg({'ordno': lambda n: 1 if len(n)>1 else 0,\n",
    "                                       'visitor': lambda n: 1 if len(n)>1 else 0,\n",
    "                                       'session': lambda n: n.count(),\n",
    "                                       'event1': lambda n: n.iloc[-1:],\n",
    "                                       'event2': lambda n: n.iloc[-1:]\n",
    "                                      })\n",
    "    sessions.reset_index(inplace=True)\n",
    "    sessions.columns = ['custno', 'isRepeatCustomer', 'isRepeatVisitor', 'sessionCnt', 'lastEvent1', 'lastEvent2']\n",
    "    train = pd.merge(rfm, sessions, on='custno', how='inner')\n",
    "    features = ['recency', 'frequency', 'monetary', 'cluster', 'isRepeatCustomer', 'isRepeatVisitor', 'sessionCnt', 'lastEvent1', 'lastEvent2']\n",
    "    cols = features + ['custno', 'lastCatPurchased']\n",
    "    train = train[cols]\n",
    "    train.fillna(0, inplace=True)\n",
    "    return train, features\n",
    "\n",
    "train, features = getData(data, rfm)"
   ]
  },
  {
   "cell_type": "code",
   "execution_count": 38,
   "metadata": {},
   "outputs": [],
   "source": [
    "X, y = train[features], train['lastCatPurchased']\n",
    "X_train, X_test, y_train, y_test = train_test_split(X, y, test_size=0.33, random_state=17)"
   ]
  },
  {
   "cell_type": "code",
   "execution_count": 39,
   "metadata": {},
   "outputs": [
    {
     "data": {
      "text/plain": [
       "GridSearchCV(cv=5, error_score='raise',\n",
       "       estimator=GradientBoostingClassifier(criterion='friedman_mse', init=None,\n",
       "              learning_rate=0.1, loss='deviance', max_depth=8,\n",
       "              max_features='sqrt', max_leaf_nodes=None,\n",
       "              min_impurity_decrease=0.0, min_impurity_split=None,\n",
       "              min_samples_leaf=50, min_samples_split=500,\n",
       "              min_weight_fraction_leaf=0.0, n_estimators=100,\n",
       "              presort='auto', random_state=7, subsample=0.8, verbose=0,\n",
       "              warm_start=False),\n",
       "       fit_params={}, iid=False, n_jobs=4,\n",
       "       param_grid={'n_estimators': array([10, 20, 30, 40, 50, 60, 70, 80, 90]), 'max_depth': array([ 5, 10, 15]), 'min_samples_split': array([ 200,  400,  600,  800, 1000])},\n",
       "       pre_dispatch='2*n_jobs', refit=True, scoring=None, verbose=0)"
      ]
     },
     "execution_count": 39,
     "metadata": {},
     "output_type": "execute_result"
    }
   ],
   "source": [
    "params = {'n_estimators': np.arange(10,100,10),\n",
    "          'max_depth':np.arange(5,20,5), \n",
    "          'min_samples_split':np.arange(200,1001,200)}\n",
    "\n",
    "# params = {'n_estimators': np.arange(10,20,10)}\n",
    "\n",
    "model = GridSearchCV(estimator = GradientBoostingClassifier(learning_rate=0.1, min_samples_split=500,min_samples_leaf=50,max_depth=8,max_features='sqrt',subsample=0.8,random_state=7), \n",
    "param_grid = params, n_jobs=4,iid=False, cv=5)\n",
    "model.fit(X_train,y_train)"
   ]
  },
  {
   "cell_type": "code",
   "execution_count": 40,
   "metadata": {},
   "outputs": [
    {
     "data": {
      "text/plain": [
       "([mean: 0.48706, std: 0.00348, params: {'max_depth': 5, 'min_samples_split': 200, 'n_estimators': 10},\n",
       "  mean: 0.48797, std: 0.00278, params: {'max_depth': 5, 'min_samples_split': 200, 'n_estimators': 20},\n",
       "  mean: 0.49058, std: 0.00241, params: {'max_depth': 5, 'min_samples_split': 200, 'n_estimators': 30},\n",
       "  mean: 0.49249, std: 0.00302, params: {'max_depth': 5, 'min_samples_split': 200, 'n_estimators': 40},\n",
       "  mean: 0.49443, std: 0.00247, params: {'max_depth': 5, 'min_samples_split': 200, 'n_estimators': 50},\n",
       "  mean: 0.49732, std: 0.00284, params: {'max_depth': 5, 'min_samples_split': 200, 'n_estimators': 60},\n",
       "  mean: 0.49883, std: 0.00303, params: {'max_depth': 5, 'min_samples_split': 200, 'n_estimators': 70},\n",
       "  mean: 0.50054, std: 0.00353, params: {'max_depth': 5, 'min_samples_split': 200, 'n_estimators': 80},\n",
       "  mean: 0.50204, std: 0.00406, params: {'max_depth': 5, 'min_samples_split': 200, 'n_estimators': 90},\n",
       "  mean: 0.48642, std: 0.00247, params: {'max_depth': 5, 'min_samples_split': 400, 'n_estimators': 10},\n",
       "  mean: 0.48852, std: 0.00262, params: {'max_depth': 5, 'min_samples_split': 400, 'n_estimators': 20},\n",
       "  mean: 0.48987, std: 0.00317, params: {'max_depth': 5, 'min_samples_split': 400, 'n_estimators': 30},\n",
       "  mean: 0.49213, std: 0.00377, params: {'max_depth': 5, 'min_samples_split': 400, 'n_estimators': 40},\n",
       "  mean: 0.49475, std: 0.00220, params: {'max_depth': 5, 'min_samples_split': 400, 'n_estimators': 50},\n",
       "  mean: 0.49835, std: 0.00310, params: {'max_depth': 5, 'min_samples_split': 400, 'n_estimators': 60},\n",
       "  mean: 0.49832, std: 0.00336, params: {'max_depth': 5, 'min_samples_split': 400, 'n_estimators': 70},\n",
       "  mean: 0.50061, std: 0.00275, params: {'max_depth': 5, 'min_samples_split': 400, 'n_estimators': 80},\n",
       "  mean: 0.50371, std: 0.00463, params: {'max_depth': 5, 'min_samples_split': 400, 'n_estimators': 90},\n",
       "  mean: 0.48642, std: 0.00358, params: {'max_depth': 5, 'min_samples_split': 600, 'n_estimators': 10},\n",
       "  mean: 0.48793, std: 0.00306, params: {'max_depth': 5, 'min_samples_split': 600, 'n_estimators': 20},\n",
       "  mean: 0.48999, std: 0.00359, params: {'max_depth': 5, 'min_samples_split': 600, 'n_estimators': 30},\n",
       "  mean: 0.49221, std: 0.00391, params: {'max_depth': 5, 'min_samples_split': 600, 'n_estimators': 40},\n",
       "  mean: 0.49459, std: 0.00372, params: {'max_depth': 5, 'min_samples_split': 600, 'n_estimators': 50},\n",
       "  mean: 0.49827, std: 0.00285, params: {'max_depth': 5, 'min_samples_split': 600, 'n_estimators': 60},\n",
       "  mean: 0.49867, std: 0.00276, params: {'max_depth': 5, 'min_samples_split': 600, 'n_estimators': 70},\n",
       "  mean: 0.50026, std: 0.00309, params: {'max_depth': 5, 'min_samples_split': 600, 'n_estimators': 80},\n",
       "  mean: 0.50093, std: 0.00309, params: {'max_depth': 5, 'min_samples_split': 600, 'n_estimators': 90},\n",
       "  mean: 0.48686, std: 0.00319, params: {'max_depth': 5, 'min_samples_split': 800, 'n_estimators': 10},\n",
       "  mean: 0.48813, std: 0.00229, params: {'max_depth': 5, 'min_samples_split': 800, 'n_estimators': 20},\n",
       "  mean: 0.49035, std: 0.00310, params: {'max_depth': 5, 'min_samples_split': 800, 'n_estimators': 30},\n",
       "  mean: 0.49169, std: 0.00374, params: {'max_depth': 5, 'min_samples_split': 800, 'n_estimators': 40},\n",
       "  mean: 0.49554, std: 0.00326, params: {'max_depth': 5, 'min_samples_split': 800, 'n_estimators': 50},\n",
       "  mean: 0.49808, std: 0.00258, params: {'max_depth': 5, 'min_samples_split': 800, 'n_estimators': 60},\n",
       "  mean: 0.49863, std: 0.00284, params: {'max_depth': 5, 'min_samples_split': 800, 'n_estimators': 70},\n",
       "  mean: 0.50046, std: 0.00255, params: {'max_depth': 5, 'min_samples_split': 800, 'n_estimators': 80},\n",
       "  mean: 0.50244, std: 0.00275, params: {'max_depth': 5, 'min_samples_split': 800, 'n_estimators': 90},\n",
       "  mean: 0.48587, std: 0.00320, params: {'max_depth': 5, 'min_samples_split': 1000, 'n_estimators': 10},\n",
       "  mean: 0.48733, std: 0.00327, params: {'max_depth': 5, 'min_samples_split': 1000, 'n_estimators': 20},\n",
       "  mean: 0.48892, std: 0.00321, params: {'max_depth': 5, 'min_samples_split': 1000, 'n_estimators': 30},\n",
       "  mean: 0.49078, std: 0.00290, params: {'max_depth': 5, 'min_samples_split': 1000, 'n_estimators': 40},\n",
       "  mean: 0.49320, std: 0.00244, params: {'max_depth': 5, 'min_samples_split': 1000, 'n_estimators': 50},\n",
       "  mean: 0.49657, std: 0.00163, params: {'max_depth': 5, 'min_samples_split': 1000, 'n_estimators': 60},\n",
       "  mean: 0.49752, std: 0.00165, params: {'max_depth': 5, 'min_samples_split': 1000, 'n_estimators': 70},\n",
       "  mean: 0.49891, std: 0.00225, params: {'max_depth': 5, 'min_samples_split': 1000, 'n_estimators': 80},\n",
       "  mean: 0.50077, std: 0.00287, params: {'max_depth': 5, 'min_samples_split': 1000, 'n_estimators': 90},\n",
       "  mean: 0.48896, std: 0.00384, params: {'max_depth': 10, 'min_samples_split': 200, 'n_estimators': 10},\n",
       "  mean: 0.49352, std: 0.00355, params: {'max_depth': 10, 'min_samples_split': 200, 'n_estimators': 20},\n",
       "  mean: 0.49887, std: 0.00406, params: {'max_depth': 10, 'min_samples_split': 200, 'n_estimators': 30},\n",
       "  mean: 0.50390, std: 0.00350, params: {'max_depth': 10, 'min_samples_split': 200, 'n_estimators': 40},\n",
       "  mean: 0.50462, std: 0.00249, params: {'max_depth': 10, 'min_samples_split': 200, 'n_estimators': 50},\n",
       "  mean: 0.50624, std: 0.00229, params: {'max_depth': 10, 'min_samples_split': 200, 'n_estimators': 60},\n",
       "  mean: 0.50708, std: 0.00370, params: {'max_depth': 10, 'min_samples_split': 200, 'n_estimators': 70},\n",
       "  mean: 0.50763, std: 0.00205, params: {'max_depth': 10, 'min_samples_split': 200, 'n_estimators': 80},\n",
       "  mean: 0.50862, std: 0.00288, params: {'max_depth': 10, 'min_samples_split': 200, 'n_estimators': 90},\n",
       "  mean: 0.48920, std: 0.00320, params: {'max_depth': 10, 'min_samples_split': 400, 'n_estimators': 10},\n",
       "  mean: 0.49431, std: 0.00211, params: {'max_depth': 10, 'min_samples_split': 400, 'n_estimators': 20},\n",
       "  mean: 0.50256, std: 0.00204, params: {'max_depth': 10, 'min_samples_split': 400, 'n_estimators': 30},\n",
       "  mean: 0.50410, std: 0.00204, params: {'max_depth': 10, 'min_samples_split': 400, 'n_estimators': 40},\n",
       "  mean: 0.50521, std: 0.00252, params: {'max_depth': 10, 'min_samples_split': 400, 'n_estimators': 50},\n",
       "  mean: 0.50827, std: 0.00309, params: {'max_depth': 10, 'min_samples_split': 400, 'n_estimators': 60},\n",
       "  mean: 0.50993, std: 0.00410, params: {'max_depth': 10, 'min_samples_split': 400, 'n_estimators': 70},\n",
       "  mean: 0.50938, std: 0.00321, params: {'max_depth': 10, 'min_samples_split': 400, 'n_estimators': 80},\n",
       "  mean: 0.51072, std: 0.00403, params: {'max_depth': 10, 'min_samples_split': 400, 'n_estimators': 90},\n",
       "  mean: 0.48955, std: 0.00356, params: {'max_depth': 10, 'min_samples_split': 600, 'n_estimators': 10},\n",
       "  mean: 0.49308, std: 0.00240, params: {'max_depth': 10, 'min_samples_split': 600, 'n_estimators': 20},\n",
       "  mean: 0.49875, std: 0.00345, params: {'max_depth': 10, 'min_samples_split': 600, 'n_estimators': 30},\n",
       "  mean: 0.50248, std: 0.00206, params: {'max_depth': 10, 'min_samples_split': 600, 'n_estimators': 40},\n",
       "  mean: 0.50533, std: 0.00243, params: {'max_depth': 10, 'min_samples_split': 600, 'n_estimators': 50},\n",
       "  mean: 0.50668, std: 0.00206, params: {'max_depth': 10, 'min_samples_split': 600, 'n_estimators': 60},\n",
       "  mean: 0.50850, std: 0.00296, params: {'max_depth': 10, 'min_samples_split': 600, 'n_estimators': 70},\n",
       "  mean: 0.50989, std: 0.00221, params: {'max_depth': 10, 'min_samples_split': 600, 'n_estimators': 80},\n",
       "  mean: 0.51124, std: 0.00242, params: {'max_depth': 10, 'min_samples_split': 600, 'n_estimators': 90},\n",
       "  mean: 0.48836, std: 0.00334, params: {'max_depth': 10, 'min_samples_split': 800, 'n_estimators': 10},\n",
       "  mean: 0.49316, std: 0.00301, params: {'max_depth': 10, 'min_samples_split': 800, 'n_estimators': 20},\n",
       "  mean: 0.49649, std: 0.00285, params: {'max_depth': 10, 'min_samples_split': 800, 'n_estimators': 30},\n",
       "  mean: 0.50085, std: 0.00083, params: {'max_depth': 10, 'min_samples_split': 800, 'n_estimators': 40},\n",
       "  mean: 0.50569, std: 0.00216, params: {'max_depth': 10, 'min_samples_split': 800, 'n_estimators': 50},\n",
       "  mean: 0.50735, std: 0.00234, params: {'max_depth': 10, 'min_samples_split': 800, 'n_estimators': 60},\n",
       "  mean: 0.50870, std: 0.00288, params: {'max_depth': 10, 'min_samples_split': 800, 'n_estimators': 70},\n",
       "  mean: 0.51029, std: 0.00283, params: {'max_depth': 10, 'min_samples_split': 800, 'n_estimators': 80},\n",
       "  mean: 0.50973, std: 0.00240, params: {'max_depth': 10, 'min_samples_split': 800, 'n_estimators': 90},\n",
       "  mean: 0.48753, std: 0.00279, params: {'max_depth': 10, 'min_samples_split': 1000, 'n_estimators': 10},\n",
       "  mean: 0.49126, std: 0.00252, params: {'max_depth': 10, 'min_samples_split': 1000, 'n_estimators': 20},\n",
       "  mean: 0.49586, std: 0.00228, params: {'max_depth': 10, 'min_samples_split': 1000, 'n_estimators': 30},\n",
       "  mean: 0.50030, std: 0.00144, params: {'max_depth': 10, 'min_samples_split': 1000, 'n_estimators': 40},\n",
       "  mean: 0.50541, std: 0.00123, params: {'max_depth': 10, 'min_samples_split': 1000, 'n_estimators': 50},\n",
       "  mean: 0.50739, std: 0.00151, params: {'max_depth': 10, 'min_samples_split': 1000, 'n_estimators': 60},\n",
       "  mean: 0.50751, std: 0.00153, params: {'max_depth': 10, 'min_samples_split': 1000, 'n_estimators': 70},\n",
       "  mean: 0.51072, std: 0.00167, params: {'max_depth': 10, 'min_samples_split': 1000, 'n_estimators': 80},\n",
       "  mean: 0.51207, std: 0.00327, params: {'max_depth': 10, 'min_samples_split': 1000, 'n_estimators': 90},\n",
       "  mean: 0.49280, std: 0.00188, params: {'max_depth': 15, 'min_samples_split': 200, 'n_estimators': 10},\n",
       "  mean: 0.49780, std: 0.00157, params: {'max_depth': 15, 'min_samples_split': 200, 'n_estimators': 20},\n",
       "  mean: 0.50105, std: 0.00122, params: {'max_depth': 15, 'min_samples_split': 200, 'n_estimators': 30},\n",
       "  mean: 0.50303, std: 0.00373, params: {'max_depth': 15, 'min_samples_split': 200, 'n_estimators': 40},\n",
       "  mean: 0.50498, std: 0.00275, params: {'max_depth': 15, 'min_samples_split': 200, 'n_estimators': 50},\n",
       "  mean: 0.50573, std: 0.00354, params: {'max_depth': 15, 'min_samples_split': 200, 'n_estimators': 60},\n",
       "  mean: 0.50509, std: 0.00248, params: {'max_depth': 15, 'min_samples_split': 200, 'n_estimators': 70},\n",
       "  mean: 0.50486, std: 0.00253, params: {'max_depth': 15, 'min_samples_split': 200, 'n_estimators': 80},\n",
       "  mean: 0.50569, std: 0.00297, params: {'max_depth': 15, 'min_samples_split': 200, 'n_estimators': 90},\n",
       "  mean: 0.49102, std: 0.00306, params: {'max_depth': 15, 'min_samples_split': 400, 'n_estimators': 10},\n",
       "  mean: 0.49701, std: 0.00294, params: {'max_depth': 15, 'min_samples_split': 400, 'n_estimators': 20},\n",
       "  mean: 0.50038, std: 0.00328, params: {'max_depth': 15, 'min_samples_split': 400, 'n_estimators': 30},\n",
       "  mean: 0.50406, std: 0.00190, params: {'max_depth': 15, 'min_samples_split': 400, 'n_estimators': 40},\n",
       "  mean: 0.50561, std: 0.00230, params: {'max_depth': 15, 'min_samples_split': 400, 'n_estimators': 50},\n",
       "  mean: 0.50716, std: 0.00285, params: {'max_depth': 15, 'min_samples_split': 400, 'n_estimators': 60},\n",
       "  mean: 0.50918, std: 0.00330, params: {'max_depth': 15, 'min_samples_split': 400, 'n_estimators': 70},\n",
       "  mean: 0.50910, std: 0.00237, params: {'max_depth': 15, 'min_samples_split': 400, 'n_estimators': 80},\n",
       "  mean: 0.50993, std: 0.00295, params: {'max_depth': 15, 'min_samples_split': 400, 'n_estimators': 90},\n",
       "  mean: 0.49015, std: 0.00447, params: {'max_depth': 15, 'min_samples_split': 600, 'n_estimators': 10},\n",
       "  mean: 0.49439, std: 0.00295, params: {'max_depth': 15, 'min_samples_split': 600, 'n_estimators': 20},\n",
       "  mean: 0.50153, std: 0.00401, params: {'max_depth': 15, 'min_samples_split': 600, 'n_estimators': 30},\n",
       "  mean: 0.50482, std: 0.00221, params: {'max_depth': 15, 'min_samples_split': 600, 'n_estimators': 40},\n",
       "  mean: 0.50656, std: 0.00349, params: {'max_depth': 15, 'min_samples_split': 600, 'n_estimators': 50},\n",
       "  mean: 0.50930, std: 0.00291, params: {'max_depth': 15, 'min_samples_split': 600, 'n_estimators': 60},\n",
       "  mean: 0.51009, std: 0.00222, params: {'max_depth': 15, 'min_samples_split': 600, 'n_estimators': 70},\n",
       "  mean: 0.51017, std: 0.00199, params: {'max_depth': 15, 'min_samples_split': 600, 'n_estimators': 80},\n",
       "  mean: 0.51005, std: 0.00268, params: {'max_depth': 15, 'min_samples_split': 600, 'n_estimators': 90},\n",
       "  mean: 0.48781, std: 0.00189, params: {'max_depth': 15, 'min_samples_split': 800, 'n_estimators': 10},\n",
       "  mean: 0.49471, std: 0.00331, params: {'max_depth': 15, 'min_samples_split': 800, 'n_estimators': 20},\n",
       "  mean: 0.50113, std: 0.00323, params: {'max_depth': 15, 'min_samples_split': 800, 'n_estimators': 30},\n",
       "  mean: 0.50569, std: 0.00291, params: {'max_depth': 15, 'min_samples_split': 800, 'n_estimators': 40},\n",
       "  mean: 0.50589, std: 0.00236, params: {'max_depth': 15, 'min_samples_split': 800, 'n_estimators': 50},\n",
       "  mean: 0.50819, std: 0.00232, params: {'max_depth': 15, 'min_samples_split': 800, 'n_estimators': 60},\n",
       "  mean: 0.51049, std: 0.00284, params: {'max_depth': 15, 'min_samples_split': 800, 'n_estimators': 70},\n",
       "  mean: 0.51116, std: 0.00311, params: {'max_depth': 15, 'min_samples_split': 800, 'n_estimators': 80},\n",
       "  mean: 0.51100, std: 0.00186, params: {'max_depth': 15, 'min_samples_split': 800, 'n_estimators': 90},\n",
       "  mean: 0.48781, std: 0.00367, params: {'max_depth': 15, 'min_samples_split': 1000, 'n_estimators': 10},\n",
       "  mean: 0.49372, std: 0.00382, params: {'max_depth': 15, 'min_samples_split': 1000, 'n_estimators': 20},\n",
       "  mean: 0.49859, std: 0.00417, params: {'max_depth': 15, 'min_samples_split': 1000, 'n_estimators': 30},\n",
       "  mean: 0.50549, std: 0.00404, params: {'max_depth': 15, 'min_samples_split': 1000, 'n_estimators': 40},\n",
       "  mean: 0.50751, std: 0.00205, params: {'max_depth': 15, 'min_samples_split': 1000, 'n_estimators': 50},\n",
       "  mean: 0.50938, std: 0.00318, params: {'max_depth': 15, 'min_samples_split': 1000, 'n_estimators': 60},\n",
       "  mean: 0.50946, std: 0.00196, params: {'max_depth': 15, 'min_samples_split': 1000, 'n_estimators': 70},\n",
       "  mean: 0.51136, std: 0.00218, params: {'max_depth': 15, 'min_samples_split': 1000, 'n_estimators': 80},\n",
       "  mean: 0.51116, std: 0.00291, params: {'max_depth': 15, 'min_samples_split': 1000, 'n_estimators': 90}],\n",
       " {'max_depth': 10, 'min_samples_split': 1000, 'n_estimators': 90},\n",
       " 0.5120716022245901)"
      ]
     },
     "execution_count": 40,
     "metadata": {},
     "output_type": "execute_result"
    }
   ],
   "source": [
    "model.grid_scores_, model.best_params_, model.best_score_"
   ]
  },
  {
   "cell_type": "code",
   "execution_count": 41,
   "metadata": {},
   "outputs": [],
   "source": [
    "model = model.best_estimator_\n",
    "preds = model.predict(X_test)"
   ]
  },
  {
   "cell_type": "markdown",
   "metadata": {},
   "source": [
    "## Model performance\n",
    "<a id=\"6\"></a>"
   ]
  },
  {
   "cell_type": "code",
   "execution_count": 42,
   "metadata": {},
   "outputs": [
    {
     "name": "stdout",
     "output_type": "stream",
     "text": [
      "Train score   ::  55.32 %\n",
      "Test score    ::  52.129999999999995 %\n"
     ]
    }
   ],
   "source": [
    "print('Train score   :: ', round(model.score(X_train, y_train), 4)*100, '%')\n",
    "print('Test score    :: ', round(model.score(X_test, y_test), 4)*100, '%')"
   ]
  },
  {
   "cell_type": "code",
   "execution_count": 43,
   "metadata": {},
   "outputs": [
    {
     "data": {
      "text/html": [
       "<div>\n",
       "<style scoped>\n",
       "    .dataframe tbody tr th:only-of-type {\n",
       "        vertical-align: middle;\n",
       "    }\n",
       "\n",
       "    .dataframe tbody tr th {\n",
       "        vertical-align: top;\n",
       "    }\n",
       "\n",
       "    .dataframe thead th {\n",
       "        text-align: right;\n",
       "    }\n",
       "</style>\n",
       "<table border=\"1\" class=\"dataframe\">\n",
       "  <thead>\n",
       "    <tr style=\"text-align: right;\">\n",
       "      <th></th>\n",
       "      <th>actuals</th>\n",
       "      <th>predicted</th>\n",
       "    </tr>\n",
       "  </thead>\n",
       "  <tbody>\n",
       "    <tr>\n",
       "      <th>0</th>\n",
       "      <td>2.0</td>\n",
       "      <td>2.0</td>\n",
       "    </tr>\n",
       "    <tr>\n",
       "      <th>1</th>\n",
       "      <td>3.0</td>\n",
       "      <td>3.0</td>\n",
       "    </tr>\n",
       "    <tr>\n",
       "      <th>2</th>\n",
       "      <td>2.0</td>\n",
       "      <td>1.0</td>\n",
       "    </tr>\n",
       "  </tbody>\n",
       "</table>\n",
       "</div>"
      ],
      "text/plain": [
       "   actuals  predicted\n",
       "0      2.0        2.0\n",
       "1      3.0        3.0\n",
       "2      2.0        1.0"
      ]
     },
     "execution_count": 43,
     "metadata": {},
     "output_type": "execute_result"
    }
   ],
   "source": [
    "predData = {'actuals': y_test, 'predicted': preds}\n",
    "f = pd.DataFrame(predData)\n",
    "f.reset_index(inplace=True, drop=True)\n",
    "f.head(3)"
   ]
  },
  {
   "cell_type": "code",
   "execution_count": 44,
   "metadata": {},
   "outputs": [
    {
     "data": {
      "image/png": "[encoded data removed]",
      "text/plain": [
       "<Figure size 576x576 with 1 Axes>"
      ]
     },
     "metadata": {},
     "output_type": "display_data"
    }
   ],
   "source": [
    "def variableImportance(model, features, thershold=0):\n",
    "  feature_importance = model.feature_importances_\n",
    "  feature_importance = 100.0 * (feature_importance / feature_importance.max())\n",
    "  sorted_idx = np.argsort(feature_importance)\n",
    "  values = feature_importance[sorted_idx]\n",
    "  names = [features[i] for i in sorted_idx]\n",
    "  values_tops = []\n",
    "  names_tops = []\n",
    "  for i, value in enumerate(values):\n",
    "    if value>thershold:\n",
    "      values_tops.append(value)\n",
    "      names_tops.append(names[i])\n",
    "  return names_tops, values_tops\n",
    "\n",
    "names,values = variableImportance(model , features)\n",
    "pos = np.arange(len(values)) + 0.5\n",
    "plt.figure(figsize=(8,8))\n",
    "plt.barh(pos, values, align='center')\n",
    "plt.yticks(pos, names)\n",
    "plt.xlabel('Relative Importance')\n",
    "plt.title('Variable Importance')\n",
    "plt.show()"
   ]
  },
  {
   "cell_type": "markdown",
   "metadata": {},
   "source": [
    "## Results Summary\n",
    "<a id=\"7\"></a>"
   ]
  },
  {
   "cell_type": "markdown",
   "metadata": {},
   "source": [
    "### Assumptions/ Challenges\n",
    "\n",
    "1. Dataset was significantly compressed due to unavailability of online data 2018 onwards as well as missing product category data for 3 out of the 6 categories in online dataset\n",
    "2. event1 and event2 have been used as is without any transformation\n",
    "3. In the interest of time, RFM analysis was not further tuned to get optimal normalized distributions\n",
    "4. Since this analysis is based on 2016-17 dataset, no inference can be drawn for recent customer clusters and/or purchase patterns. This can at best be used as retrospective analyses.\n",
    "\n",
    "### Observations\n",
    "\n",
    "1. **RFM Analysis**\n",
    "\n",
    "    1. Majority purchases of high monetary value were made recently\n",
    "    2. Low monetary value items were purhcased frequently\n",
    "    3. Recency distribution indicates seasonality. This can be confirmed with more data.\n",
    "    4. There are several outliers in frequency especially with high monetary items. Given more time, would like to assess these outliers separately to understand these customers and purchase patterns.\n",
    "\n",
    "2. **Clustering**\n",
    "    \n",
    "    1. Elbow plot analysis clearly indicated 3 optimal clusters for this dataset. Below are the customer segments:\n",
    "    \n",
    "        1. Customers who purchased low monetary products recently (last 1 year)\n",
    "        2. Customers who purchased low monetary products in the past (>1 year)\n",
    "        3. Customers who purchased high monetary products any time\n",
    "\n",
    "3. **Modeling**\n",
    "\n",
    "    1. Given the multi-class classfication problem, used an ensemble technique - Gradient Boosting Classfier model - to predict the product category purchased by the customer.\n",
    "    2. Achieved a score of 52.2% on test dataset.\n",
    "        \n",
    "### Next Steps\n",
    "\n",
    "1. Explore more features from the data like browsing session averages and patterns impacting purchases of specific product categories\n",
    "2. Explore individual customer segments and outliers in purchasing patterns\n",
    "3. Further hyperparameter tuning of the model and exploring other classification models/ recommendation systems\n",
    "4. Evaluate precision/ recall/ F1 score for the model classifications instead of relying on average score\n",
    "5. Could also use probability classifiers to predict multiple products instead of single purchase depending upon where and how this model will be used."
   ]
  },
  {
   "cell_type": "code",
   "execution_count": null,
   "metadata": {},
   "outputs": [],
   "source": []
  }
 ],
 "metadata": {
  "kernelspec": {
   "display_name": "Python 3",
   "language": "python",
   "name": "python3"
  },
  "language_info": {
   "codemirror_mode": {
    "name": "ipython",
    "version": 3
   },
   "file_extension": ".py",
   "mimetype": "text/x-python",
   "name": "python",
   "nbconvert_exporter": "python",
   "pygments_lexer": "ipython3",
   "version": "3.6.6"
  }
 },
 "nbformat": 4,
 "nbformat_minor": 2
}
